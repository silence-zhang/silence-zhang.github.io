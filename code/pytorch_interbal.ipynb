{
 "cells": [
  {
   "cell_type": "code",
   "execution_count": null,
   "metadata": {},
   "outputs": [],
   "source": [
    "! pip install torch "
   ]
  },
  {
   "cell_type": "code",
   "execution_count": null,
   "metadata": {},
   "outputs": [],
   "source": [
    "!pip list | grep torch"
   ]
  },
  {
   "cell_type": "code",
   "execution_count": 38,
   "metadata": {},
   "outputs": [
    {
     "data": {
      "text/plain": [
       "torch.Size([2, 3])"
      ]
     },
     "execution_count": 38,
     "metadata": {},
     "output_type": "execute_result"
    }
   ],
   "source": [
    "import torch\n",
    "x = torch.tensor(([1,2,3],[4,5,6]),dtype=torch.float32)\n",
    "x.shape\n"
   ]
  },
  {
   "cell_type": "code",
   "execution_count": 63,
   "metadata": {},
   "outputs": [
    {
     "data": {
      "text/plain": [
       "(tensor([[7, 8, 3]]),\n",
       " tensor([[1., 2., 3.],\n",
       "         [4., 5., 6.],\n",
       "         [7., 8., 3.]]))"
      ]
     },
     "execution_count": 63,
     "metadata": {},
     "output_type": "execute_result"
    }
   ],
   "source": [
    "# tensor 添加一行\n",
    "y = torch.tensor([7,8,3])\n",
    "y = y.unsqueeze(0)\n",
    "y,torch.cat((x,y),dim=0)\n"
   ]
  },
  {
   "cell_type": "code",
   "execution_count": 64,
   "metadata": {},
   "outputs": [
    {
     "data": {
      "text/plain": [
       "(tensor([[7],\n",
       "         [8]]),\n",
       " tensor([[1., 2., 3., 7.],\n",
       "         [4., 5., 6., 8.]]))"
      ]
     },
     "execution_count": 64,
     "metadata": {},
     "output_type": "execute_result"
    }
   ],
   "source": [
    "# tensor 添加一列\n",
    "y = torch.tensor([7,8])\n",
    "y = y.unsqueeze(1)\n",
    "z = torch.cat((x,y), dim=1)\n",
    "y,z"
   ]
  },
  {
   "cell_type": "code",
   "execution_count": 65,
   "metadata": {},
   "outputs": [
    {
     "data": {
      "text/plain": [
       "tensor([[0., 0.],\n",
       "        [0., 0.]])"
      ]
     },
     "execution_count": 65,
     "metadata": {},
     "output_type": "execute_result"
    }
   ],
   "source": [
    "torch.zeros(2, 2)"
   ]
  },
  {
   "cell_type": "code",
   "execution_count": 68,
   "metadata": {},
   "outputs": [
    {
     "name": "stdout",
     "output_type": "stream",
     "text": [
      "\u001b[0;31mDocstring:\u001b[0m\n",
      "mm(input, mat2, *, out=None) -> Tensor\n",
      "\n",
      "Performs a matrix multiplication of the matrices :attr:`input` and :attr:`mat2`.\n",
      "\n",
      "If :attr:`input` is a :math:`(n \\times m)` tensor, :attr:`mat2` is a\n",
      ":math:`(m \\times p)` tensor, :attr:`out` will be a :math:`(n \\times p)` tensor.\n",
      "\n",
      ".. note:: This function does not :ref:`broadcast <broadcasting-semantics>`.\n",
      "          For broadcasting matrix products, see :func:`torch.matmul`.\n",
      "\n",
      "Supports strided and sparse 2-D tensors as inputs, autograd with\n",
      "respect to strided inputs.\n",
      "\n",
      "This operation has support for arguments with :ref:`sparse layouts<sparse-docs>`.\n",
      "If :attr:`out` is provided it's layout will be used. Otherwise, the result\n",
      "layout will be deduced from that of :attr:`input`.\n",
      "\n",
      "\n",
      ".. warning::\n",
      "    Sparse support is a beta feature and some layout(s)/dtype/device combinations may not be supported,\n",
      "    or may not have autograd support. If you notice missing functionality please\n",
      "    open a feature request.\n",
      "\n",
      "This operator supports :ref:`TensorFloat32<tf32_on_ampere>`.\n",
      "\n",
      "On certain ROCm devices, when using float16 inputs this module will use :ref:`different precision<fp16_on_mi200>` for backward.\n",
      "\n",
      "Args:\n",
      "    input (Tensor): the first matrix to be matrix multiplied\n",
      "    mat2 (Tensor): the second matrix to be matrix multiplied\n",
      "\n",
      "Keyword args:\n",
      "    out (Tensor, optional): the output tensor.\n",
      "\n",
      "Example::\n",
      "\n",
      "    >>> mat1 = torch.randn(2, 3)\n",
      "    >>> mat2 = torch.randn(3, 3)\n",
      "    >>> torch.mm(mat1, mat2)\n",
      "    tensor([[ 0.4851,  0.5037, -0.3633],\n",
      "            [-0.0760, -3.6705,  2.4784]])\n",
      "\u001b[0;31mType:\u001b[0m      builtin_function_or_method"
     ]
    }
   ],
   "source": [
    "?? torch.mm"
   ]
  },
  {
   "cell_type": "code",
   "execution_count": null,
   "metadata": {},
   "outputs": [],
   "source": []
  }
 ],
 "metadata": {
  "kernelspec": {
   "display_name": "Python 3",
   "language": "python",
   "name": "python3"
  },
  "language_info": {
   "codemirror_mode": {
    "name": "ipython",
    "version": 3
   },
   "file_extension": ".py",
   "mimetype": "text/x-python",
   "name": "python",
   "nbconvert_exporter": "python",
   "pygments_lexer": "ipython3",
   "version": "3.11.6"
  }
 },
 "nbformat": 4,
 "nbformat_minor": 2
}
